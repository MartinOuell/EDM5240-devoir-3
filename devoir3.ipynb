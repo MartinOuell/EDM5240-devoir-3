{
 "cells": [
  {
   "cell_type": "markdown",
   "metadata": {},
   "source": [
    "# Devoir 3 : Martin Ouellet-Diotte <img src=\"https://media.giphy.com/media/gGuOldphm6vzW/giphy.gif\" width=\"100\" height=\"150\" align='right'>\n"
   ]
  },
  {
   "cell_type": "code",
   "execution_count": 266,
   "metadata": {},
   "outputs": [],
   "source": [
    "# coding: utf-8\n",
    "%matplotlib inline #pas besoin, mais sait-on jamais...\n",
    "import pandas as pd\n",
    "import matplotlib as mp #pas besoin, mais sait-on jamais...\n",
    "\n",
    "pd.set_option('display.max_rows', 500)  #permet un affichage prolongé des données\n",
    "pd.set_option('display.max_columns', 500)\n",
    "\n"
   ]
  },
  {
   "cell_type": "code",
   "execution_count": 267,
   "metadata": {},
   "outputs": [],
   "source": [
    "pd.options.display.float_format = \"{:.2f}\".format"
   ]
  },
  {
   "cell_type": "markdown",
   "metadata": {},
   "source": [
    "### La ligne de code ci-dessous ira lire le fichier 'grants.csv'"
   ]
  },
  {
   "cell_type": "code",
   "execution_count": 268,
   "metadata": {},
   "outputs": [],
   "source": [
    "subv = pd.read_csv(\"grants.csv\", low_memory=False) # Une erreur de mémoire doit être évitée ici"
   ]
  },
  {
   "cell_type": "code",
   "execution_count": 230,
   "metadata": {
    "scrolled": true
   },
   "outputs": [],
   "source": [
    "#subv #test afin de bien percevoir les informations"
   ]
  },
  {
   "cell_type": "code",
   "execution_count": 269,
   "metadata": {
    "scrolled": true
   },
   "outputs": [
    {
     "data": {
      "text/plain": [
       "Index(['ref_number', 'amendment_number', 'amendment_date', 'agreement_type',\n",
       "       'recipient_type', 'recipient_business_number', 'recipient_legal_name',\n",
       "       'recipient_operating_name', 'research_organization_name',\n",
       "       'recipient_country', 'recipient_province', 'recipient_city',\n",
       "       'recipient_postal_code', 'federal_riding_name_en',\n",
       "       'federal_riding_name_fr', 'federal_riding_number', 'prog_name_en',\n",
       "       'prog_name_fr', 'prog_purpose_en', 'prog_purpose_fr',\n",
       "       'agreement_title_en', 'agreement_title_fr', 'agreement_number',\n",
       "       'agreement_value', 'foreign_currency_type', 'foreign_currency_value',\n",
       "       'agreement_start_date', 'agreement_end_date', 'coverage',\n",
       "       'description_en', 'description_fr', 'naics_identifier',\n",
       "       'expected_results_en', 'expected_results_fr',\n",
       "       'additional_information_en', 'additional_information_fr', 'owner_org',\n",
       "       'owner_org_title'],\n",
       "      dtype='object')"
      ]
     },
     "execution_count": 269,
     "metadata": {},
     "output_type": "execute_result"
    }
   ],
   "source": [
    "subv.columns #identification des colonnes pour identifier celles en anglais."
   ]
  },
  {
   "cell_type": "markdown",
   "metadata": {},
   "source": [
    "### La ligne de code ci-dessous permet de retirer les colonnes anglaises "
   ]
  },
  {
   "cell_type": "code",
   "execution_count": 270,
   "metadata": {},
   "outputs": [],
   "source": [
    "subv = subv.drop(['federal_riding_name_en', 'prog_name_en', 'prog_purpose_en',\n",
    "       'agreement_title_en', 'description_en',  'expected_results_en', 'additional_information_en'],1)"
   ]
  },
  {
   "cell_type": "code",
   "execution_count": 271,
   "metadata": {},
   "outputs": [
    {
     "data": {
      "text/plain": [
       "Index(['ref_number', 'amendment_number', 'amendment_date', 'agreement_type',\n",
       "       'recipient_type', 'recipient_business_number', 'recipient_legal_name',\n",
       "       'recipient_operating_name', 'research_organization_name',\n",
       "       'recipient_country', 'recipient_province', 'recipient_city',\n",
       "       'recipient_postal_code', 'federal_riding_name_fr',\n",
       "       'federal_riding_number', 'prog_name_fr', 'prog_purpose_fr',\n",
       "       'agreement_title_fr', 'agreement_number', 'agreement_value',\n",
       "       'foreign_currency_type', 'foreign_currency_value',\n",
       "       'agreement_start_date', 'agreement_end_date', 'coverage',\n",
       "       'description_fr', 'naics_identifier', 'expected_results_fr',\n",
       "       'additional_information_fr', 'owner_org', 'owner_org_title'],\n",
       "      dtype='object')"
      ]
     },
     "execution_count": 271,
     "metadata": {},
     "output_type": "execute_result"
    }
   ],
   "source": [
    "subv.columns #petite verification du retrait des colonnes superflues\n",
    "\n"
   ]
  },
  {
   "cell_type": "markdown",
   "metadata": {},
   "source": [
    "### La ligne ci-dessous sert à changer le nom des colonnes vers le français"
   ]
  },
  {
   "cell_type": "code",
   "execution_count": 272,
   "metadata": {},
   "outputs": [],
   "source": [
    "subv.columns = ['num_reference', 'num_amendment', 'date_amendment', 'type_accord',\n",
    "       'type', 'num_entreprise_recipiendaire', 'nom_legal',\n",
    "       'nom_operation', 'nom_organisme_recherche',\n",
    "       'pays', 'province', 'ville',\n",
    "       'code_postal', 'nom_federal',\n",
    "       'num_federal', 'nom_programme', 'but_programme',\n",
    "       'titre_accord', 'num_accord', 'valeur_accord',\n",
    "       'monnaie_etrangere', 'valeur_monnaie_etrangere',\n",
    "       'debut_accord', 'fin_accord', 'couverture',\n",
    "       'description', 'identifiants_naics', 'resultats_attendus',\n",
    "       'information_sup', 'organisation_proprietaire', 'ministere']"
   ]
  },
  {
   "cell_type": "code",
   "execution_count": 273,
   "metadata": {
    "scrolled": true
   },
   "outputs": [],
   "source": [
    "#subv #Test avec les nouveaux noms fr"
   ]
  },
  {
   "cell_type": "markdown",
   "metadata": {},
   "source": [
    "### Les prochaines lignes de code serviront à transformer ma colonne valeur_accord vers des nombres"
   ]
  },
  {
   "cell_type": "code",
   "execution_count": 274,
   "metadata": {},
   "outputs": [
    {
     "data": {
      "text/plain": [
       "num_reference                    object\n",
       "num_amendment                     int64\n",
       "date_amendment                   object\n",
       "type_accord                      object\n",
       "type                             object\n",
       "num_entreprise_recipiendaire     object\n",
       "nom_legal                        object\n",
       "nom_operation                    object\n",
       "nom_organisme_recherche          object\n",
       "pays                             object\n",
       "province                         object\n",
       "ville                            object\n",
       "code_postal                      object\n",
       "nom_federal                      object\n",
       "num_federal                     float64\n",
       "nom_programme                    object\n",
       "but_programme                    object\n",
       "titre_accord                     object\n",
       "num_accord                       object\n",
       "valeur_accord                    object\n",
       "monnaie_etrangere                object\n",
       "valeur_monnaie_etrangere         object\n",
       "debut_accord                     object\n",
       "fin_accord                       object\n",
       "couverture                       object\n",
       "description                      object\n",
       "identifiants_naics              float64\n",
       "resultats_attendus               object\n",
       "information_sup                  object\n",
       "organisation_proprietaire        object\n",
       "ministere                        object\n",
       "dtype: object"
      ]
     },
     "execution_count": 274,
     "metadata": {},
     "output_type": "execute_result"
    }
   ],
   "source": [
    "subv.dtypes # J'utilise ici la fonction dtypes pour identifier le texte et les nombres."
   ]
  },
  {
   "cell_type": "code",
   "execution_count": 275,
   "metadata": {},
   "outputs": [],
   "source": [
    "subv.valeur_accord = subv.valeur_accord.str.replace(\"$\",\"\") # Nettoyage de la colonne pour pouvoir en faire un float\n",
    "subv.valeur_accord = subv.valeur_accord.str.replace(\",\",\"\")\n"
   ]
  },
  {
   "cell_type": "code",
   "execution_count": 276,
   "metadata": {
    "scrolled": true
   },
   "outputs": [],
   "source": [
    "subv.valeur_accord = subv.valeur_accord.astype(float) # transformation de la colonne 'valeur_accord' en float."
   ]
  },
  {
   "cell_type": "code",
   "execution_count": 235,
   "metadata": {},
   "outputs": [],
   "source": [
    "#subv.dtypes # verif"
   ]
  },
  {
   "cell_type": "markdown",
   "metadata": {},
   "source": [
    "### Les prochaines lignes de code serviront à identifier les programmes du ministère du Patrimoine canadien"
   ]
  },
  {
   "cell_type": "code",
   "execution_count": 277,
   "metadata": {},
   "outputs": [],
   "source": [
    "mini = subv.ministere.str.contains(\"[P,p]atrimoine canadien\") "
   ]
  },
  {
   "cell_type": "code",
   "execution_count": 278,
   "metadata": {
    "scrolled": true
   },
   "outputs": [
    {
     "data": {
      "text/plain": [
       "Fonds du Canada pour les périodiques                                    824\n",
       "Développement de Communautés de Langue Officielle                       461\n",
       "Développement des communautés par le biais des arts et du patrimoine    447\n",
       "Célébration, commémoration et apprentissage                             328\n",
       "Fonds du livre du Canada                                                298\n",
       "Programme du multiculturalisme                                          213\n",
       "Fonds du Canada pour la présentation des arts                           176\n",
       "Programme de soutien au sport                                           125\n",
       "Mise en valeur des langues officielles                                  120\n",
       "Programme des peuples autochtones                                       114\n",
       "Fonds du Canada pour les espaces Culturels                              105\n",
       "Sport - Programme d'accueil                                              75\n",
       "Programme d'aide aux musées (PAM)                                        74\n",
       "Fonds du Canada pour la formation dans le secteur des arts               19\n",
       "Fonds pour l'histoire du Canada                                          13\n",
       "Fonds du Canada pour l'investissement en culture                         11\n",
       "Fonds de la musique du Canada                                             4\n",
       "Les jeunes s'engagent                                                     4\n",
       "Fonds des médias du Canada                                                2\n",
       "Groupe fiduciaire des édifices des Pères de la Confédération              1\n",
       "TV5                                                                       1\n",
       "La fondation Rideau Hall                                                  1\n",
       "Name: nom_programme, dtype: int64"
      ]
     },
     "execution_count": 278,
     "metadata": {},
     "output_type": "execute_result"
    }
   ],
   "source": [
    "subv[mini].nom_programme.value_counts() # Le fonds pour les périodiques a octroyé le plus grand nombre de subventions."
   ]
  },
  {
   "cell_type": "code",
   "execution_count": 279,
   "metadata": {
    "scrolled": true
   },
   "outputs": [
    {
     "data": {
      "text/plain": [
       "nom_programme\n",
       "Fonds des médias du Canada                                             268292154.00\n",
       "Programme de soutien au sport                                          147474339.00\n",
       "Fonds du Canada pour les périodiques                                    74605371.00\n",
       "Développement de Communautés de Langue Officielle                       64345277.00\n",
       "Programme des peuples autochtones                                       42367055.00\n",
       "Fonds du Canada pour les espaces Culturels                              41211925.00\n",
       "Fonds du livre du Canada                                                34631873.00\n",
       "Sport - Programme d'accueil                                             24099699.00\n",
       "Fonds du Canada pour la présentation des arts                           13646670.00\n",
       "Développement des communautés par le biais des arts et du patrimoine    11927184.00\n",
       "La fondation Rideau Hall                                                10000000.00\n",
       "Fonds du Canada pour la formation dans le secteur des arts               9046500.00\n",
       "Groupe fiduciaire des édifices des Pères de la Confédération             9000000.00\n",
       "Célébration, commémoration et apprentissage                              6998936.00\n",
       "Fonds du Canada pour l'investissement en culture                         6649374.00\n",
       "Programme d'aide aux musées (PAM)                                        5002761.00\n",
       "Fonds de la musique du Canada                                            5000000.00\n",
       "Fonds pour l'histoire du Canada                                          4862464.00\n",
       "Programme du multiculturalisme                                           3236101.00\n",
       "Mise en valeur des langues officielles                                   2307713.00\n",
       "TV5                                                                      1380000.00\n",
       "Les jeunes s'engagent                                                     135000.00\n",
       "Name: valeur_accord, dtype: float64"
      ]
     },
     "execution_count": 279,
     "metadata": {},
     "output_type": "execute_result"
    }
   ],
   "source": [
    "subv[mini].groupby(\"nom_programme\").valeur_accord.sum().sort_values(ascending=False) #... Mais le fonds des médias + de $"
   ]
  },
  {
   "cell_type": "code",
   "execution_count": 280,
   "metadata": {},
   "outputs": [],
   "source": [
    "fped = subv.nom_programme == \"Fonds du Canada pour les périodiques\" # C'est ce programme qui nous intéresse, sous ensemble."
   ]
  },
  {
   "cell_type": "code",
   "execution_count": 282,
   "metadata": {},
   "outputs": [],
   "source": [
    "#subv[fped] # verif"
   ]
  },
  {
   "cell_type": "markdown",
   "metadata": {},
   "source": [
    "### Ici, il s'agit de trouver les entreprises qui ont le plus bénéficié de ce programme"
   ]
  },
  {
   "cell_type": "code",
   "execution_count": 283,
   "metadata": {},
   "outputs": [
    {
     "data": {
      "text/plain": [
       "nom_legal\n",
       "TVA PUBLICATIONS INC. - CANADIAN LIVING                                                                1500000.00\n",
       "TVA PUBLICATIONS INC. - TV HEBDO                                                                       1500000.00\n",
       "ROGERS MEDIA INC. - MACLEAN'S                                                                          1403958.00\n",
       "TVA PUBLICATIONS INC. - STYLE AT HOME                                                                  1368536.00\n",
       "TVA PUBLICATIONS INC. - 7 JOURS                                                                        1306990.00\n",
       "FEATURE PUBLISHING LTD.                                                                                1264919.00\n",
       "HOUSE & HOME MEDIA - CANADIAN HOUSE & HOME                                                             1264584.00\n",
       "READER'S DIGEST MAGAZINES LIMITED - READER'S DIGEST                                                    1247578.00\n",
       "WESTERN PRODUCER PUBLICATIONS LIMITED PARTNERSHIP                                                      1207816.00\n",
       "TVA PUBLICATIONS INC. - COUP DE POUCE                                                                  1199271.00\n",
       "PUBLICATIONS CHARRON & CIE INC. (LES) - LA SEMAINE                                                     1113622.00\n",
       "FÉDÉRATION DE L'ÂGE D'OR DU QUÉBEC                                                                     1070534.00\n",
       "GLACIER FARMMEDIA LIMITED PARTNERSHIP                                                                  1049976.00\n",
       "ZOOMERMEDIA LIMITED                                                                                    1045168.00\n",
       "ROGERS MEDIA INC. - CHATELAINE (ENGLISH)                                                               1025639.00\n",
       "CANADA WIDE MEDIA LIMITED - TV WEEK                                                                    1005754.00\n",
       "PUBLICATIONS GROUPE TVA-HEARST INC. (LES)                                                              1000227.00\n",
       "ROUSTAN MEDIA LTD.                                                                                      941019.00\n",
       "CANVET PUBLICATIONS LTD. - LEGION MAGAZINE                                                              904210.00\n",
       "POSTMEDIA NETWORK INC. - ONTARIO FARMER                                                                 866359.00\n",
       "PUBLICATIONS SENIOR INC. - BEL ÂGE                                                                      850315.00\n",
       "UNION DES PRODUCTEURS AGRICOLES (L') - LA TERRE DE CHEZ NOUS                                            843618.00\n",
       "MAGAZINES CANADA                                                                                        824385.00\n",
       "MISHMASH MEDIA INC.                                                                                     805725.00\n",
       "RICARDO MÉDIA INC.                                                                                      776711.00\n",
       "CANADIAN GEOGRAPHIC ENTERPRISES                                                                         763483.00\n",
       "OUTDOOR GROUP MEDIA LTD.                                                                                762008.00\n",
       "TVA PUBLICATIONS INC. - ÉCHOS VEDETTES                                                                  739461.00\n",
       "PUBLICATIONS SENIOR INC. - GOOD TIMES                                                                   655819.00\n",
       "ÉDITIONS PROTÉGEZ-VOUS (LES)                                                                            645920.00\n",
       "ONTARIO FEDERATION OF ANGLERS AND HUNTERS (THE)                                                         605605.00\n",
       "ÉDITIONS PRATICO-PRATIQUES INC. - 5 INGRÉDIENTS / 15 MINUTES                                            580303.00\n",
       "TORONTO LIFE PUBLISHING COMPANY LIMITED - TORONTO LIFE                                                  571903.00\n",
       "CATHOLIC REGISTER (THE)                                                                                 568308.00\n",
       "ROGERS MEDIA INC. - CHÂTELAINE (FRENCH)                                                                 539977.00\n",
       "CANADIAN NEWS MEDIA ASSOCIATION                                                                         505550.00\n",
       "READER'S DIGEST MAGAZINES LIMITED - SÉLECTION DU READER'S DIGEST                                        494647.00\n",
       "KO MÉDIA INC.                                                                                           491071.00\n",
       "1772887 ONTARIO LIMITED - FASHION                                                                       480684.00\n",
       "BAYARD PRESSE CANADA INC. - CHICKADEE                                                                   474300.00\n",
       "MÉDIAS TRANSCONTINENTAL S.E.N.C. - LES AFFAIRES                                                         472493.00\n",
       "GENERAL SYNOD OF THE ANGLICAN CHURCH OF CANADA                                                          459894.00\n",
       "READER'S DIGEST MAGAZINES LIMITED - OUR CANADA                                                          455360.00\n",
       "BAYARD PRESSE CANADA INC. - CHIRP                                                                       447041.00\n",
       "CANADIAN JEWISH NEWS (THE)                                                                              442412.00\n",
       "NATIONAL ASSOCIATION OF FEDERAL RETIREES                                                                426310.00\n",
       "TVA PUBLICATIONS INC. - LES IDÉES DE MA MAISON                                                          420899.00\n",
       "BAYARD PRESSE CANADA INC. - OWL                                                                         406484.00\n",
       "ROMAN CATHOLIC ARCHBISHOP OF VANCOUVER (THE)                                                            392727.00\n",
       "OBSERVER PUBLICATIONS INC.                                                                              388164.00\n",
       "SALTWIRE NETWORK INC. -  NEWFOUNDLAND                                                                   375864.00\n",
       "PUBLICATIONS BLD INC. - LES DÉBROUILLARDS                                                               359512.00\n",
       "AMYLITHO INC. - ALLÔ VEDETTES                                                                           358500.00\n",
       "TVA PUBLICATIONS INC. - COOL!                                                                           355354.00\n",
       "SALTWIRE NETWORK INC.- NOVA SCOTIA                                                                      336210.00\n",
       "TVA PUBLICATIONS INC. - CLIN D'OEIL                                                                     334385.00\n",
       "WALRUS FOUNDATION (THE)                                                                                 323097.00\n",
       "DOWNHOME PUBLISHING INC.                                                                                320365.00\n",
       "COTTAGE LIFE MEDIA INC.                                                                                 315408.00\n",
       "HEBDOS QUÉBEC INC.                                                                                      302658.00\n",
       "READER'S DIGEST MAGAZINES LIMITED - BEST HEALTH                                                         293134.00\n",
       "PUBLICATIONS BLD INC. - LES EXPLORATEURS                                                                291596.00\n",
       "SUNDAY HERALD LIMITED - THE NEWFOUNDLAND HERALD                                                         288556.00\n",
       "COMMUNICATIONS CAMPING-CARAVANING INC. - CAMPING CARAVANING                                             270198.00\n",
       "SENTIER CHASSE-PÊCHE INC.                                                                               261689.00\n",
       "ROGERS MEDIA INC. - TODAY'S PARENT                                                                      258435.00\n",
       "CANADIAN MENNONITE PUBLISHING SERVICE                                                                   255792.00\n",
       "REVUE SAINTE-ANNE - LA REVUE SAINTE-ANNE                                                                242893.00\n",
       "REVUE NOTRE-DAME-DU-CAP (LA)                                                                            229348.00\n",
       "TVA PUBLICATIONS INC. - DERNIÈRE HEURE                                                                  216415.00\n",
       "MÉDIAS TRANSCONTINENTAL S.E.N.C. - LES AFFAIRES PLUS                                                    211660.00\n",
       "PUBLICATIONS VOYAGEUR INC.                                                                              211497.00\n",
       "AVENTURE CHASSE ET PÊCHE INC.                                                                           208454.00\n",
       "FÉDÉRATION QUÉBÉCOISE DES CLUBS QUADS (FQCQ)                                                            201648.00\n",
       "SALTSCAPES PUBLISHING LIMITED - SALTSCAPES                                                              200963.00\n",
       "D B C COMMUNICATIONS INC.                                                                               200239.00\n",
       "CANADA'S NATIONAL HISTORY SOCIETY / SOCIÉTÉ D'HISTOIRE NATIONALE DU CANADA                              195472.00\n",
       "1818025 ONTARIO LTD. - EL CENTRO NEWSPAPER                                                              189721.00\n",
       "SOUTHERN TIP PUBLISHING INC. - SMALL FARM CANADA                                                        189200.00\n",
       "OP MEDIA GROUP LTD.                                                                                     179552.00\n",
       "NATIONAL ETHNIC PRESS AND MEDIA COUNCIL OF CANADA                                                       175390.00\n",
       "ICIMÉDIAS INC.                                                                                          173679.00\n",
       "CERCLES DE FERMIÈRES DU QUÉBEC (LES)                                                                    170756.00\n",
       "MARRS MEDIA INC.                                                                                        170634.00\n",
       "ÉDITIONS PRATICO-PRATIQUES INC. - GABRIELLE                                                             170351.00\n",
       "GROUPE COMMUNAUTAIRE L'ITINÉRAIRE (LE) - L'ITINÉRAIRE                                                   166754.00\n",
       "D V L PUBLISHING INCORPORATED                                                                           165085.00\n",
       "ERMITAGE SAINT-ANTOINE                                                                                  163188.00\n",
       "MEDIPAC INTERNATIONAL COMMUNICATIONS INC.                                                               162980.00\n",
       "2383850 ONTARIO LTD.                                                                                    159707.00\n",
       "GRIPPED PUBLISHING INC. - CANADIAN RUNNING                                                              150844.00\n",
       "MUNICIPAL WORLD INC.                                                                                    147912.00\n",
       "VÉLO QUÉBEC ÉDITIONS - QUÉBEC SCIENCE                                                                   147806.00\n",
       "OLD AUTOS PUBLICATIONS INC.                                                                             144377.00\n",
       "TROIS FOIS PAR JOUR INC.                                                                                143904.00\n",
       "ÉDITIONS PRATICO-PRATIQUES INC. - JE CUISINE                                                            143638.00\n",
       "MODERN DOG INC. - MODERN DOG                                                                            142831.00\n",
       "CANADIAN SCRAPBOOKER INC.                                                                               133105.00\n",
       "CALIBRE PUBLISHING LTD.                                                                                 131066.00\n",
       "READER'S DIGEST MAGAZINES LIMITED - MORE OF OUR CANADA                                                  130618.00\n",
       "JEWISH RUSSIAN SPEAKING COMMUNITY OF TORONTO - EXODUS MAGAZINE (RUSSIAN)                                127958.00\n",
       "ADVOCATE MEDIA INCORPORATED - LIGHTHOUSENOW PROGRESS BULLETIN                                           127373.00\n",
       "TRAJAN PUBLISHING CORPORATION (THE) - CANADIAN COIN NEWS                                                123328.00\n",
       "JOURNAL DE LA RUE (LE)                                                                                  121477.00\n",
       "HOLSTEIN JOURNAL GROUP INC. (THE) - HOLSTEIN JOURNAL                                                    119152.00\n",
       "RAVEN MÉDIA INC.                                                                                        118676.00\n",
       "EGANVILLE LEADER PUBLISHING (2004) LIMITED (THE)                                                        116431.00\n",
       "COLTSFOOT PUBLISHING LIMITED                                                                            116373.00\n",
       "ONTARIO SNOWMOBILER PUBLISHING LTD. - OSM                                                               115620.00\n",
       "ALTA NEWSPAPER GROUP LIMITED PARTNERSHIP - THE 40-MILE COUNTY COMMENTATOR                               114989.00\n",
       "OP MEDIA GROUP LTD. - PACIFIC YACHTING                                                                  113366.00\n",
       "NEW FREEMAN LTD. (THE)                                                                                  110820.00\n",
       "ÉDITIONS PRATICO-PRATIQUES INC.                                                                         110736.00\n",
       "HOUSE & HOME MEDIA - MAISON & DEMEURE                                                                   108895.00\n",
       "ÉDITIONS APEX (2017) INC. (LES)                                                                         108406.00\n",
       "RAPID MAGAZINE INC. - PADDLING MAGAZINE                                                                 107520.00\n",
       "BAXTER PUBLICATIONS INC. - TRAVEL COURIER                                                               107342.00\n",
       "MANITOULIN PUBLISHING COMPANY LIMITED - THE MANITOULIN EXPOSITOR                                        106688.00\n",
       "BAXTER PUBLICATIONS INC. - CANADIAN TRAVEL PRESS                                                        104830.00\n",
       "SKYNEWS INC. - SKYNEWS                                                                                  104685.00\n",
       "ÉDITIONS PRATICO-PRATIQUES INC. - JE DÉCORE                                                             102790.00\n",
       "ADASTRA MEDIA INC.                                                                                      102610.00\n",
       "TRAX MEDIA INC.                                                                                         102468.00\n",
       "IQ BUSINESS MEDIA INC.                                                                                  102143.00\n",
       "ECOPARENT INC.                                                                                          101560.00\n",
       "VÉLO QUÉBEC ÉDITIONS - VÉLO MAG                                                                          99011.00\n",
       "JEWISH RUSSIAN SPEAKING COMMUNITY OF TORONTO - EXODUS MAGAZINE (ENGLISH)                                 98407.00\n",
       "CONCEPTS TRAVEL MEDIA LIMITED                                                                            97661.00\n",
       "VÉLO QUÉBEC ÉDITIONS - GÉO PLEIN AIR                                                                     95620.00\n",
       "DUBÉ ET LOISELLE INC.                                                                                    95433.00\n",
       "ISLAND PRESS LIMITED - THE EASTERN GRAPHIC                                                               95053.00\n",
       "PUBLICATIONS BLD INC. - CURIUM                                                                           94756.00\n",
       "SAWDUST MEDIA INC. - CANADIAN WOODWORKING & HOME IMPROVEMENT                                             94262.00\n",
       "TERRANCE GREGORY DENOMME                                                                                 93491.00\n",
       "GRIPPED PUBLISHING INC. - CANADIAN CYCLING MAGAZINE                                                      93076.00\n",
       "NEWCOM MEDIA INC. - TODAY'S TRUCKING                                                                     90493.00\n",
       "CANADIAN MONEY SAVER INC. (THE) - CANADIAN MONEYSAVER                                                    90382.00\n",
       "ÉCHO DE FRONTENAC INC. (L') - L'ÉCHO DE FRONTENAC                                                        88914.00\n",
       "TVA PUBLICATIONS INC. - TV HEBDO TÉLÉROMANS                                                              88222.00\n",
       "FP CANADIAN NEWSPAPERS LIMITED PARTNERSHIP - THE CARILLON                                                88156.00\n",
       "ÉDITIONS JEAN, ROBERT INC. (LES) - CYCLE CANADA                                                          86868.00\n",
       "PUBLICATIONS CHARRON & CIE INC. (LES) - LA SEMAINE TÉLÉROMANS                                            85503.00\n",
       "RIPTIDE RESOURCES INC. - MOTORCYCLE MOJO                                                                 83981.00\n",
       "BIG BUCK MAGAZINE (2014) LTD.                                                                            83879.00\n",
       "PREMIER PRINTING LTD.                                                                                    83665.00\n",
       "FLY FUSION LTD                                                                                           82353.00\n",
       "GLENGARRY NEWS LIMITED (THE)                                                                             81890.00\n",
       "LEXIS MÉDIA INC. - MIEUX-ÊTRE                                                                            81764.00\n",
       "GRASSLANDS NEWS GROUP                                                                                    80945.00\n",
       "UP HERE PUBLISHING LTD. - UP HERE                                                                        79247.00\n",
       "MODERN CAT INC.                                                                                          79241.00\n",
       "URDU KHABARNAMA INC.                                                                                     78625.00\n",
       "FARMHOUSE COMMUNICATIONS INC.                                                                            78261.00\n",
       "MY PASSION MEDIA INC.                                                                                    78071.00\n",
       "T.H.E. SENIOR PAPER LTD.                                                                                 77515.00\n",
       "3847128 CANADA INC.                                                                                      77218.00\n",
       "SOLSTICE PUBLISHING INC.                                                                                 76986.00\n",
       "IFM MEDIA INC.                                                                                           76981.00\n",
       "GRIPPED PUBLISHING INC. - TRIATHLON MAGAZINE CANADA                                                      76303.00\n",
       "PUBLICATIONS SPORT-AM INC. (LES)                                                                         76283.00\n",
       "CANADIAN ART FOUNDATION (THE)                                                                            76174.00\n",
       "CULTURERUS CORPORATION                                                                                   75710.00\n",
       "CANADA WIDE MEDIA LIMITED - BC BUSINESS                                                                  75356.00\n",
       "DAUPHIN HERALD COMPANY (1997) LTD. - THE DAUPHIN HERALD                                                  75290.00\n",
       "ALTA NEWSPAPER GROUP LIMITED PARTNERSHIP - THE SUNNY SOUTH NEWS                                          74691.00\n",
       "SPORTS SCENE PUBLICATIONS INC.                                                                           73008.00\n",
       "ORINHA MÉDIA                                                                                             72409.00\n",
       "MÉDIAS TRANSCONTINENTAL S.E.N.C. / TRANSCONTINENTAL MEDIA G.P.                                           72239.00\n",
       "HORSE PUBLICATIONS GROUP INC. - HORSE SPORT                                                              72225.00\n",
       "TRAJAN PUBLISHING CORPORATION (THE) - CANADIAN STAMP NEWS                                                72057.00\n",
       "CAPITAL PRINTERS LTD.                                                                                    71773.00\n",
       "SERDY MÉDIA INC.                                                                                         71215.00\n",
       "EVANGELICAL LUTHERAN CHURCH IN CANADA                                                                    70980.00\n",
       "ÉDITIONS DU 21E SIÈCLE INC. (LES) - LA MAISON DU 21E SIÈCLE                                              70917.00\n",
       "044089 N.-B. LTÉE                                                                                        70838.00\n",
       "INSIDE TRACK COMMUNICATIONS INC. - INSIDE MOTORCYCLES                                                    70077.00\n",
       "KMI PUBLISHING AND EVENTS LTD.                                                                           70068.00\n",
       "SUNCRUISER PUBLISHING INC. - SNOWBIRDS & RV TRAVELERS                                                    69233.00\n",
       "HORSE PUBLICATIONS GROUP INC. - HORSE CANADA                                                             68959.00\n",
       "PEGASUS PUBLICATIONS INC.                                                                                67887.00\n",
       "POSTMEDIA NETWORK INC. - GODERICH SIGNAL STAR                                                            67698.00\n",
       "STREET CORNER MEDIA FOUNDATION - MEGAPHONE                                                               67560.00\n",
       "NORTHERN NEWS SERVICES LIMITED - NEWS NORTH NWT/YK                                                       67417.00\n",
       "ÉDITIONS JEAN, ROBERT INC. (LES) - MOTO JOURNAL                                                          67329.00\n",
       "HALDIMAND PRESS 2017 INC. (THE)                                                                          66771.00\n",
       "1425545 ONTARIO INC. - YOUR WORKPLACE                                                                    66665.00\n",
       "PRESSE-OUEST LTÉE - LA LIBERTÉ                                                                           66216.00\n",
       "FORT FRANCES TIMES, LIMITED - FORT FRANCES TIMES                                                         65824.00\n",
       "MCKAY PUBLICATIONS LTD.                                                                                  65785.00\n",
       "TANNER-YOUNG MARKETING LTD.                                                                              65713.00\n",
       "INVERNESS COMMUNICATIONS LIMITED                                                                         65496.00\n",
       "NATIONAL MEDIA AWARDS FOUNDATION                                                                         64611.00\n",
       "CANADIAN BIKER PUBLICATION LTD.                                                                          64295.00\n",
       "GARDENER FOR THE PRAIRIES INC. (THE) - THE GARDENER FOR CANADIAN CLIMATES                                63393.00\n",
       "OVATION MÉDIAS INC. - HOCKEY LE MAGAZINE                                                                 63336.00\n",
       "AMYLITHO INC. - FULL FILLE                                                                               63071.00\n",
       "AYLMER EXPRESS LIMITED (THE)                                                                             62849.00\n",
       "GREAT WEST NEWSPAPERS LIMITED PARTNERSHIP - THE BARRHEAD LEADER                                          62038.00\n",
       "NESBITT PUBLISHING COMPANY LTD.                                                                          62018.00\n",
       "CANADIAN WILDLIFE FEDERATION INC. - CANADIAN WILDLIFE                                                    61896.00\n",
       "NEWCOM MEDIA INC. - TRUCK NEWS                                                                           61458.00\n",
       "SUNCRUISER PUBLISHING INC. - 4WD MAGAZINE                                                                61348.00\n",
       "NEWCOM MEDIA INC. - CANADIAN AUTO REPAIR & SERVICES (CARS) MAGAZINE                                      61312.00\n",
       "ANNEX PUBLISHING & PRINTING INC. - ELECTRICAL BUSINESS                                                   60912.00\n",
       "ORATOIRE SAINT-JOSEPH DU MONT-ROYAL (L')                                                                 60538.00\n",
       "MERCURY PUBLICATIONS LIMITED                                                                             59592.00\n",
       "ALTERNATIVES, INC.                                                                                       59557.00\n",
       "BAUM PUBLICATIONS LTD. - HEAVY EQUIPMENT GUIDE                                                           59415.00\n",
       "REGROUPEMENT QUÉBECOISEAUX                                                                               59347.00\n",
       "FÉDÉRATION QUÉBÉCOISE DE LA MARCHE                                                                       59136.00\n",
       "ATLANTIC SALMON FEDERATION (CANADA)                                                                      59063.00\n",
       "GREAT WEST NEWSPAPERS LIMITED PARTNERSHIP - THE WESTLOCK NEWS                                            58908.00\n",
       "HORSE COMMUNITY JOURNALS INC. - CANADIAN HORSE JOURNAL                                                   58806.00\n",
       "DRUMHELLER MAIL LTD.                                                                                     58695.00\n",
       "GESTION, REVUE INTERNATIONALE DE GESTION - GESTION, REVUE INTERNATIONALE DE GESTION                      58658.00\n",
       "IMPRIMERIE PONTIAC INC.                                                                                  58584.00\n",
       "PORT DOVER MAPLE LEAF LIMITED                                                                            58396.00\n",
       "RUSSIAN CANADIAN BROADCASTING RUSSIAN SPEAKING SETTLEMENT AND IMMIGRATION CENTRE OF ONTARIO              58382.00\n",
       "DIVERSITY REPORTER MEDIA INC.                                                                            58276.00\n",
       "CANADIAN AVIATOR PUBLISHING LTD.                                                                         57979.00\n",
       "INSIDE TRACK COMMUNICATIONS INC. - INSIDE TRACK MOTORSPORT NEWS                                          57924.00\n",
       "NEWCOM MEDIA INC. - ORAL HEALTH                                                                          57712.00\n",
       "AYR NEWS LIMITED                                                                                         57690.00\n",
       "DISABILITY TODAY PUBLISHING GROUP INC. - BLAZE MAGAZINE                                                  57348.00\n",
       "MOUNTAINEER PUBLISHING COMPANY LIMITED (THE)                                                             57073.00\n",
       "MISSIONNAIRES DE LA CONSOLATA (CANADA) - RÉVEIL MISSIONNAIRE                                             56687.00\n",
       "CLANSMAN PUBLISHING LIMITED - CELTIC LIFE INTERNATIONAL                                                  56552.00\n",
       "GVIC COMMUNICATIONS CORP. - YORKTON THIS WEEK                                                            56281.00\n",
       "4479777 CANADA INC. - JOURNAL HAFTEH                                                                     55952.00\n",
       "BRUNSWICK NEWS INC. - KINGS COUNTY RECORD                                                                55450.00\n",
       "RCMP VETERANS ASSOCIATION                                                                                55336.00\n",
       "GREAT WEST NEWSPAPERS LIMITED PARTNERSHIP - THE ST. PAUL JOURNAL                                         55315.00\n",
       "WESTERN PERFORMANCE PUBLISHING INC.                                                                      54995.00\n",
       "TVA PUBLICATIONS INC. - COOL! SPÉCIAL TESTS                                                              54513.00\n",
       "LOMOSAD MEDIA INC.                                                                                       54368.00\n",
       "MOKEHAM PUBLISHING INC. - DUTCH THE MAGAZINE                                                             54307.00\n",
       "2WOMOR PUBLICATIONS INC. - WINCHESTER PRESS                                                              54175.00\n",
       "SUNLIGHT MEDIA INC.                                                                                      54175.00\n",
       "SWAN VALLEY STAR & TIMES LTD.                                                                            53673.00\n",
       "SPIRIT OF YOUTH ENTERPRISES INC.                                                                         53634.00\n",
       "NEWFOUNDLAND SPORTSMAN LTD.                                                                              53624.00\n",
       "TEMISKAMING PRINTING COMPANY LIMITED                                                                     53615.00\n",
       "ÉDITIONS ESSE (LES)                                                                                      53608.00\n",
       "AUTOMOTIV'PRESSE INC. - V8 PASSION                                                                       53451.00\n",
       "JOURNAL FRANCO-ALBERTAIN LTÉE (LE)                                                                       53256.00\n",
       "996963 ONTARIO INC.                                                                                      52996.00\n",
       "CANADIAN WILDLIFE FEDERATION INC. - WILD                                                                 52441.00\n",
       "PUBLICATIONS BLD INC.                                                                                    51985.00\n",
       "PROBASHI KANTHO INC.                                                                                     51608.00\n",
       "ONTARIO COMMUNITY NEWSPAPERS ASSOCIATION                                                                 51039.00\n",
       "                                                                                                          ...    \n",
       "CRIME REPORT PUBLICATIONS LTD.                                                                           20661.00\n",
       "409313 ALBERTA LTD. - THE WEEKLY REVIEW                                                                  20634.00\n",
       "ANNEX PUBLISHING & PRINTING INC. - CANADIAN CONSULTING ENGINEER                                          20586.00\n",
       "POSTMEDIA NETWORK INC. - THE VULCAN ADVOCATE                                                             20573.00\n",
       "HOLMES PUBLISHING CO. LTD. - THE OYEN ECHO                                                               20554.00\n",
       "GRUPO CORREO CORP.                                                                                       20513.00\n",
       "WHISTLER PUBLISHING LIMITED PARTNERSHIP                                                                  20379.00\n",
       "NEWCOM MEDIA INC. - ORAL HYGIENE                                                                         20348.00\n",
       "FOAM LAKE REVIEW LTD. (THE) - FOAM LAKE REVIEW                                                           20105.00\n",
       "KOSTUCH MEDIA LTD. - HOTELIER                                                                            20053.00\n",
       "MILOTCHE MEDIA INC.                                                                                      20050.00\n",
       "ANNEX PUBLISHING & PRINTING INC. - CANADIAN PLASTICS                                                     20006.00\n",
       "ALTA NEWSPAPER GROUP LIMITED PARTNERSHIP - THE SHAUNAVON STANDARD                                        19731.00\n",
       "ROUSSEAU COMMUNICATION AUTOMOBILE INC. - TIRENEWS                                                        19706.00\n",
       "SMOKY SIGNAL PRESS LTD.                                                                                  19516.00\n",
       "RODEO CONNECTION PUBLICATIONS LTD.                                                                       19501.00\n",
       "POSTMEDIA NETWORK INC. - THE NIPAWIN JOURNAL                                                             19460.00\n",
       "PUBLICATIONS AGRICOLES FRANCO-ONTARIENNES (À BUT NON-LUCRATIF) - AGRICOM                                 19449.00\n",
       "BRIARPATCH INCORPORATED                                                                                  19415.00\n",
       "ATELIER 10 INC. - NOUVEAU PROJET                                                                         19392.00\n",
       "LAKEFIELD HERALD LTD.                                                                                    19361.00\n",
       "BIG GAME ILLUSTRATED MEDIA                                                                               19351.00\n",
       "BAPTIST WOMEN'S MISSIONARY SOCIETY OF ONTARIO AND QUEBEC (THE)                                           19333.00\n",
       "GVIC COMMUNICATIONS CORP. - MELITA NEW ERA                                                               19320.00\n",
       "PEGASUS PUBLICATIONS INC. - ALBERTA GARDENER                                                             19273.00\n",
       "BIG KIDS LITTLE KIDS INC. - GRAPHIC ARTS MAGAZINE                                                        19173.00\n",
       "METROLAND MEDIA GROUP LTD. - WINGHAM ADVANCE TIMES                                                       19125.00\n",
       "OUR TIMES LABOUR PUBLISHING INC. - OUR TIMES                                                             19123.00\n",
       "FP CANADIAN NEWSPAPERS LIMITED PARTNERSHIP - THE CARBERRY NEWS-EXPRESS                                   19104.00\n",
       "M & J GENDRON HOLDINGS LTD.                                                                              19001.00\n",
       "GROUPE DE COMMUNICATION SANSECTRA INC.                                                                   18995.00\n",
       "S.G. BENNETT MARKETING INC. - CANADIAN DOG FANCIER                                                       18978.00\n",
       "340616 ALBERTA LTD.                                                                                      18889.00\n",
       "POSTMEDIA NETWORK INC. - THE LUCKNOW SENTINEL                                                            18832.00\n",
       "ASSOCIATION DES MÉDIAS ÉCRITS COMMUNAUTAIRES DU QUÉBEC                                                   18693.00\n",
       "ANNEX PUBLISHING & PRINTING INC. - OCCUPATIONAL HEALTH & SAFETY                                          18678.00\n",
       "GVIC COMMUNICATIONS CORP. - PREECEVILLE PROGRESS & THE STURGIS REVIEW                                    18601.00\n",
       "LMP PUBLICATION LIMITED PARTNERSHIP - BOWEN ISLAND UNDERCURRENT                                          18540.00\n",
       "INTERIM PUBLISHING COMPANY LIMITED (THE)                                                                 18535.00\n",
       "TWEED NEWS PUBLISHING CO. LTD. (THE)                                                                     18486.00\n",
       "MEDIA MATTERS INCORPORATED - COLLISION REPAIR                                                            18467.00\n",
       "AMYLITHO INC. - ÉDITION SPÉCIALE 100% FUN                                                                18431.00\n",
       "NEW LANARK ERA INC. (THE)                                                                                18424.00\n",
       "ANNEX PUBLISHING & PRINTING INC. - CANADIAN FOREST INDUSTRIES                                            18408.00\n",
       "TANGLE LANE INC.                                                                                         18254.00\n",
       "INSTITUTE FOR RESEARCH ON PUBLIC POLICY - POLICY OPTIONS POLITIQUES                                      18170.00\n",
       "REVUE À BÂBORD !                                                                                         18090.00\n",
       "SUB-TERRAIN LITERARY COLLECTIVE SOCIETY - SUBTERRAIN MAGAZINE                                            18090.00\n",
       "GRAVEL SUBSCRIPTIONS LTD.                                                                                18079.00\n",
       "PEGASUS PUBLICATIONS INC. - MANITOBA GARDENER                                                            18022.00\n",
       "POSTMEDIA NETWORK INC. - THE TILBURY TIMES                                                               17827.00\n",
       "UNION OF SPIRITUAL COMMUNITIES OF CHRIST (THE)                                                           17747.00\n",
       "BLACK PRESS GROUP LTD. - THE SIMILKAMEEN SPOTLIGHT                                                       17723.00\n",
       "NEW PATHWAY PUBLISHERS, LIMITED (THE) - THE NEW PATHWAY - UKRAINIIAN NEWS                                17697.00\n",
       "REFORMED FAITH WITNESS                                                                                   17538.00\n",
       "BRAINSPACE PUBLISHING INC.                                                                               17485.00\n",
       "CENTRE JUSTICE ET FOI                                                                                    17456.00\n",
       "EN PROFONDEUR INC. - EN PROFONDEUR                                                                       17439.00\n",
       "REVUE QUI FAIT QUOI INC.                                                                                 17394.00\n",
       "BLACK PRESS GROUP LTD. - ASHCROFT CACHE CREEK JOURNAL                                                    17326.00\n",
       "BLACK PRESS GROUP LTD. - THE TIMES (NORTH THOMPSON)                                                      17326.00\n",
       "PENGUIN EGGS MAGAZINE LTD. - PENGUIN EGGS                                                                17312.00\n",
       "JEWISH POST LTD. (THE) - THE JEWISH POST & NEWS                                                          17238.00\n",
       "PROJECT PLOUGHSHARES - THE PLOUGHSHARES MONITOR                                                          17221.00\n",
       "VAPAA SANA PRESS LIMITED - KANADAN SANOMAT                                                               17220.00\n",
       "ROUSSEAU COMMUNICATION AUTOMOBILE INC. - LE GARAGISTE                                                    17183.00\n",
       "GVIC COMMUNICATIONS CORP. - THE KIPLING CITIZEN                                                          17130.00\n",
       "TURTLE ISLAND NEWS PUBLICATIONS - TURTLE ISLAND NEWS                                                     17040.00\n",
       "LAST MOUNTAIN TIMES LTD.                                                                                 16959.00\n",
       "POSTMEDIA NETWORK INC. - THE PINCHER CREEK ECHO                                                          16734.00\n",
       "SOCIÉTÉ GÉNÉALOGIQUE CANADIENNE FRANÇAISE - MÉMOIRES DE LA SOCIÉTÉ GÉNÉALOGIQUE CANADIENNE-FRANÇAISE     16713.00\n",
       "QUEBEC CHRONICLE-TELEGRAPH CORPORATION INC.                                                              16482.00\n",
       "BRUNICO COMMUNICATIONS LTD.                                                                              16474.00\n",
       "C THE VISUAL ARTS FOUNDATION - C MAGAZINE                                                                16411.00\n",
       "AMBER PRINTERS & PUBLISHERS LIMITED - LATVIJA AMERIKA                                                    16395.00\n",
       "POSTMEDIA NETWORK INC. - THE MID-NORTH MONITOR                                                           16342.00\n",
       "7569424 CANADA INC.                                                                                      16337.00\n",
       "9015-6753 QUÉBEC INC.                                                                                    15992.00\n",
       "PHILAPRINT INC.                                                                                          15980.00\n",
       "W.I. MEDIA INC. - COVERINGS                                                                              15950.00\n",
       "THE HERALD SERVING THAMESVILLE, DRESDEN AND BOTHWELL                                                     15609.00\n",
       "HOMIN UKRAINY (UKRAINIAN ECHO) PUBLISHING CO. LIMITED                                                    15597.00\n",
       "CANADIAN HEALTHCARE TECHNOLOGY                                                                           15591.00\n",
       "ADDINGTON PUBLICATIONS LIMITED                                                                           15568.00\n",
       "RAVI PRESS                                                                                               15546.00\n",
       "JAMAC PUBLISHING LTD. - THE PRESS REVIEW                                                                 15477.00\n",
       "101026460 SASKATCHEWAN LTD. - LANIGAN ADVISOR                                                            15452.00\n",
       "CONGRÉGATION DU TRÈS-SAINT-SACREMENT                                                                     15447.00\n",
       "HARDLINES INC.                                                                                           15423.00\n",
       "BLACK PRESS GROUP LTD. - OMINECA EXPRESS                                                                 15421.00\n",
       "ALHADATH COMMUNITY NEWSPAPER                                                                             15341.00\n",
       "PUBLICATIONS ARMÉNIENNES (1991) (LES)                                                                    15219.00\n",
       "BLACK PRESS GROUP LTD. - WESTERTLY NEWS                                                                  15170.00\n",
       "GROUPE TERTIO INC.                                                                                       15057.00\n",
       "DESKTOP AND DESIGN                                                                                       15025.00\n",
       "FJORD REVIEW                                                                                             15000.00\n",
       "3895211 CANADA INC. - A NEEDLE PULLING THREAD                                                            14936.00\n",
       "MAISONNEUVE MAGAZINE ASSOCIATION - MAISONNEUVE                                                           14880.00\n",
       "VANCOUVER BOOK AND MAGAZINE FAIR (THE)                                                                   14865.00\n",
       "POSTMEDIA NETWORK INC. - THE HANNA HERALD                                                                14835.00\n",
       "SOUTHERN MANITOBA REVIEW                                                                                 14814.00\n",
       "BLACK PRESS GROUP LTD. - THE REVIEW (KEREMEOS)                                                           14814.00\n",
       "MARATHON MERCURY PRINTERS LIMITED (THE)                                                                  14785.00\n",
       "SAN MAGAZINE INC.                                                                                        14733.00\n",
       "ÉDITIONS CAP-AUX-DIAMANTS INC. (LES) - CAP-AUX-DIAMANTS                                                  14709.00\n",
       "OPERA CANADA PUBLICATIONS - OPERA CANADA                                                                 14691.00\n",
       "UNIVERSITY OF VICTORIA - THE MALAHAT REVIEW                                                              14572.00\n",
       "ONTARIO CRAFTS COUNCIL - STUDIO: CRAFT AND DESIGN IN CANADA                                              14463.00\n",
       "MYDEEN EDUCATION LTD.                                                                                    14336.00\n",
       "MEMORIAL UNIVERSITY OF NEWFOUNDLAND                                                                      14303.00\n",
       "POSTMEDIA NETWORK INC. - STRATHROY AGE DISPATCH                                                          14082.00\n",
       "DESTINATION FAMILLE  LTÉE                                                                                14037.00\n",
       "SASKATCHEWAN WRITERS' GUILD INC.                                                                         14000.00\n",
       "GVIC COMMUNICATIONS CORP. - SOURIS PLAINDEALER                                                           13983.00\n",
       "CANADIAN RAILROAD HISTORICAL ASSOCIATION                                                                 13978.00\n",
       "LOGBERG-HEIMSKRINGLA INCORPORATED                                                                        13968.00\n",
       "ROBERT SMITH                                                                                             13967.00\n",
       "ANNEX PUBLISHING & PRINTING INC. - PULP & PAPER CANADA                                                   13938.00\n",
       "CAPILANO REVIEW CONTEMPORARY ARTS SOCIETY                                                                13827.00\n",
       "OBSERVATORUL                                                                                             13776.00\n",
       "MUSÉE DE LA GASPÉSIE - MAGAZINE GASPÉSIE                                                                 13673.00\n",
       "2307415 ONTARIO INC.                                                                                     13538.00\n",
       "VINO MEDIA INC. - VINS & VIGNOBLES                                                                       13526.00\n",
       "PUBLICATIONS MARIE ET NOTRE TEMPS INC. (LES)                                                             13497.00\n",
       "TEKEYAN ARMENIAN CULTURAL ASSOCIATION OF MONTREAL                                                        13410.00\n",
       "DREAM WAVE PUBLISHING INC.  - BAZOOF!                                                                    13252.00\n",
       "OPTIMYZ INC. - OPTIMYZ                                                                                   13243.00\n",
       "GVIC COMMUNICATIONS CORP. - DELORAINE TIMES & STAR                                                       13224.00\n",
       "ALIVE PUBLISHING GROUP INC. - ALIVE                                                                      13216.00\n",
       "POSTMEDIA NETWORK INC. - THE NORWICH GAZETTE                                                             13203.00\n",
       "ÉCOLE BRANCHÉE (L')                                                                                      13172.00\n",
       "JAMAC PUBLISHING LTD. - LEADER NEWS                                                                      13055.00\n",
       "RÉSEAU ENVIRONNEMENT INC. - VECTEUR ENVIRONNEMENT                                                        13025.00\n",
       "AGELESSNB                                                                                                13011.00\n",
       "BLACK PRESS GROUP LTD. - NORTH THOMPSON STAR/JOURNAL                                                     12945.00\n",
       "PIETSCH GROUP INC.                                                                                       12874.00\n",
       "LE CANAL AUDITIF                                                                                         12421.00\n",
       "6921086 CANADA INC. - L'ACTUALITÉ ALIMENTAIRE                                                            12356.00\n",
       "BLACK PRESS GROUP LTD. - NORTHERN SENTINEL                                                               12306.00\n",
       "ROUSSEAU COMMUNICATION AUTOMOBILE INC. - CAMAUTO                                                         12283.00\n",
       "BLACK PRESS GROUP LTD. - THE LAKE COWICHAN GAZETTE                                                       12259.00\n",
       "DASATHA PUBLICATIONS                                                                                     12214.00\n",
       "NORTHERN NEWS SERVICES LIMITED - INUVIK DRUM                                                             12185.00\n",
       "BCS COMMUNICATIONS LTD. - REHAB & COMMUNITY CARE MEDICINE                                                12131.00\n",
       "MUSICWORKS SOCIETY OF ONTARIO INC. - MUSICWORKS                                                          11980.00\n",
       "POSTMEDIA NETWORK INC. - THE MAYERTHORPE FREELANCER                                                      11964.00\n",
       "PRISM NEWS CORP.                                                                                         11878.00\n",
       "BRITISH COLUMBIA HISTORICAL FEDERATION (THE)                                                             11842.00\n",
       "DIMENSION PUBLICATIONS INC. - CANADIAN DIMENSION                                                         11787.00\n",
       "ZIBURIAI (CANADIAN LITHUANIAN) ROMAN CATHOLIC CULTURAL SOCIETY, INC.                                     11716.00\n",
       "WATERSHED SENTINEL EDUCATIONAL SOCIETY - WATERSHED SENTINEL                                              11707.00\n",
       "NUIT BLANCHE, MAGAZINE LITTÉRAIRE                                                                        11605.00\n",
       "POSTMEDIA NETWORK INC. - PETROLIA TOPIC                                                                  11529.00\n",
       "POSTMEDIA NETWORK INC. - NANTON NEWS (THE)                                                               11529.00\n",
       "PRESSE MISSIONNAIRE M.I.C. - MIC MISSION NEWS                                                            11480.00\n",
       "NORTHERN NEWS SERVICES LIMITED - KIVALLIQ NEWS                                                           11381.00\n",
       "EN SON NOM - VIE CONSACRÉE AUJOURD'HUI                                                                   11305.00\n",
       "AGENCE DE PRESSE YOGA INC. - YOGA MONDO                                                                  11296.00\n",
       "INFORMATEUR CATHOLIQUE (L')                                                                              11250.00\n",
       "OTTAWA JEWISH BULLETIN PUBLISHING CO. LTD. (THE)                                                         11222.00\n",
       "ÉDITIONS MULTI-CONCEPT INC. (LES) - MAMAN & MOI                                                          11184.00\n",
       "FOAM LAKE REVIEW LTD. (THE) - ITUNA NEWS                                                                 11130.00\n",
       "THEM DAYS INCORPORATED - THEM DAYS                                                                       11074.00\n",
       "WEST COAST FEMINIST LITERARY MAGAZINE SOCIETY                                                            11004.00\n",
       "PEGASUS PUBLICATIONS INC. - ONTARIO GARDENER                                                             10979.00\n",
       "TORONTO BOOK AND MAGAZINE FAIR                                                                           10900.00\n",
       "LAKESHORE COMMUNITY PUBLISHING LTD. - NIPIGON-RED ROCK GAZETTE                                           10876.00\n",
       "DADGAR INC.                                                                                              10780.00\n",
       "APPOINT                                                                                                  10673.00\n",
       "BLACK PRESS GROUP LTD. - HAIDA GWAII OBSERVER                                                            10460.00\n",
       "BELLWETHER MEDIA INC.                                                                                    10424.00\n",
       "BRZ GROUP INC.                                                                                           10000.00\n",
       "OILERSNATION.COM LTD.                                                                                    10000.00\n",
       "BLACK PRESS GROUP LTD. - ARROW LAKES NEWS                                                                 9987.00\n",
       "ROCKY MOUNTAIN GOAT MEDIA INC.                                                                            9980.00\n",
       "CGMAGAZINE                                                                                                9930.00\n",
       "LEXIS MÉDIA INC. - MOI PARENT                                                                             9894.00\n",
       "UKRAINIAN WOMEN'S ASSOCIATION OF CANADA (THE)                                                             9877.00\n",
       "COUNTY MAGAZINE PRINTSHOP LTD.                                                                            9795.00\n",
       "BLACK PRESS GROUP LTD. - THE BOUNDARY CREEK TIMES                                                         9774.00\n",
       "CUT KNIFE COURIER                                                                                         9745.00\n",
       "GVIC COMMUNICATIONS CORP. - THE RESTON RECORDER                                                           9702.00\n",
       "GREAT WEST NEWSPAPERS LIMITED PARTNERSHIP - ELK POINT REVIEW                                              9601.00\n",
       "ÉDITIONS CONTINUITÉ INC. - CONTINUITÉ                                                                     9575.00\n",
       "ASSOCIATION LURELU                                                                                        9523.00\n",
       "MACKENZIE REPORT INC. - MILE ZERO NEWS                                                                    9522.00\n",
       "BLACK PRESS GROUP LTD. - EAGLE VALLEY NEWS                                                                9513.00\n",
       "ASSOCIATION FORESTIÈRE DE L'ABITIBI-TÉMISCAMINGUE INC. - LE COUVERT BORÉAL                                9484.00\n",
       "PRAIRIE FIRE PRESS, INC.                                                                                  9466.00\n",
       "BLACK PRESS GROUP LTD. - HOUSTON TODAY                                                                    9371.00\n",
       "24/30 I/S                                                                                                 9352.00\n",
       "BLACK PRESS GROUP LTD. - THE CASTOR ADVANCE                                                               9253.00\n",
       "FÉDÉRATION QUÉBÉCOISE POUR LE SAUMON ATLANTIQUE (F.Q.S.A.) INC.                                           9193.00\n",
       "GARDENER FOR THE PRAIRIES INC. (THE)                                                                      9190.00\n",
       "GRIZZLY GAZETTE (1990) INC.                                                                               9147.00\n",
       "BLACK PRESS GROUP LTD. - CALEDONIA COURIER                                                                9135.00\n",
       "ALTA NEWSPAPER GROUP LIMITED PARTNERSHIP - THE VAUXHALL ADVANCE                                           8727.00\n",
       "MATRIX PUBLICATIONS                                                                                       8687.00\n",
       "POSTMEDIA NETWORK INC. - THE INGERSOLL TIMES                                                              8543.00\n",
       "GRAND LAKE MIRROR LTD.                                                                                    8504.00\n",
       "ÉDITIONS MULTI-CONCEPT INC. (LES) - LE PATIENT                                                            8397.00\n",
       "19TH CENTURY REFLECTIONS                                                                                  8394.00\n",
       "BC'S PET CONNECTION LTD. - PET CONNECTION                                                                 8369.00\n",
       "PRODUCTIONS CIEL VARIABLE                                                                                 8321.00\n",
       "DANCE MEDIA GROUP                                                                                         8192.00\n",
       "MAGAZINE URBANIA INC.                                                                                     8010.00\n",
       "ROUSSEAU COMMUNICATION AUTOMOBILE INC. - PNEUMAG                                                          7878.00\n",
       "COOPÉRATIVE DE SOLIDARITÉ JOURNAL DE RUE LE NOUVEL ESPOIR                                                 7872.00\n",
       "TOWNSHIPS SUN (1982) LTD.                                                                                 7659.00\n",
       "NIKKEI RESEARCH AND EDUCATION PROJECT OF ONTARIO                                                          7187.00\n",
       "DUTCH NEWSPAPER INC. (THE)                                                                                7162.00\n",
       "DINAH PUBLISHING INC.                                                                                     6906.00\n",
       "PORT DOVER MAPLE LEAF LIMITED - PORT ROWAN GOOD NEWS                                                      6854.00\n",
       "DRIFTWOOD ENTERPRISES                                                                                     6654.00\n",
       "ASSOCIATION FRANCO-YUKONNAISE - L'AURORE BORÉALE                                                          6583.00\n",
       "LAKESHORE COMMUNITY PUBLISHING LTD. - TERRACE BAY-SCHREIBER NEWS                                          6477.00\n",
       "ST CLAUDE GAZETTE                                                                                         6335.00\n",
       "IORÌ:WASE                                                                                                 6284.00\n",
       "GOOD NEWS JOURNAL                                                                                         6260.00\n",
       "BUL-CAN HORIZONS                                                                                          6140.00\n",
       "BRAMBLE INK                                                                                               6100.00\n",
       "ALTA NEWSPAPER GROUP LIMITED PARTNERSHIP - WESTWIND WEEKLY NEWS                                           5803.00\n",
       "COOPÉRATIVE DES PUBLICATIONS FRANSASKOISES LIMITÉE (LA) - L'EAU VIVE                                      5729.00\n",
       "ISLAND PRESS LIMITED - ATLANTIC POST CALLS                                                                5600.00\n",
       "INUIT ART FOUNDATION - INUIT ART QUARTERLY                                                                5400.00\n",
       "GABOTEUR INC. (LE)                                                                                        5393.00\n",
       "RED PRESS SOCIETY                                                                                         5041.00\n",
       "3494586 CANADA INC. - NATION                                                                              5032.00\n",
       "ÉDITIONS NUMÉRIQUES                                                                                       5000.00\n",
       "ASPARAGUS MAGAZINE                                                                                        5000.00\n",
       "NHP PUBLICATIONS                                                                                          5000.00\n",
       "EASY PERIODICAL                                                                                           5000.00\n",
       "THE ANTI-LANGUOROUS PROJECT                                                                               5000.00\n",
       "MISSISSAUGA ARTS GUIDE                                                                                    5000.00\n",
       "QUEER NEWS                                                                                                5000.00\n",
       "MUST DO CANADA                                                                                            5000.00\n",
       "LYUBOV SLAVATINSKA - SMART KIDS                                                                           4826.00\n",
       "MASARYK MEMORIAL INSTITUTE INCORPORATED                                                                   4793.00\n",
       "MEDIA MATTERS INCORPORATED                                                                                4299.00\n",
       "MI'KMAQ/MALISEET NATIONS NEWS ASSOCIATION                                                                 3830.00\n",
       "COMMITTEE D'ACTION PLACE LAFONTAINE - LE GOÛT DE VIVRE                                                    3681.00\n",
       "GUJARAT WEEKLY INC.- GUJARAT WEEKLY                                                                       3512.00\n",
       "HOTAKI INTERNATIONAL INC.                                                                                 3300.00\n",
       "BLACK PRESS GROUP LTD. - BASHAW STAR                                                                      3171.00\n",
       "BLACK PRESS GROUP LTD. - COAST MOUNTAIN NEWS                                                              2696.00\n",
       "TRIDENT PRESS LTD.                                                                                        2220.00\n",
       "THAI VEEDU INC.                                                                                           2180.00\n",
       "DAIANE JOANA D'ARC FREITAS GUEDES                                                                         1721.00\n",
       "EXPRESS DE TORONTO INC. ( L')                                                                             1196.00\n",
       "SALAM TORONTO MEDIA INC. - SALAM TORONTO                                                                  1172.00\n",
       "Name: valeur_accord, Length: 751, dtype: float64"
      ]
     },
     "execution_count": 283,
     "metadata": {},
     "output_type": "execute_result"
    }
   ],
   "source": [
    "subv[fped].groupby(\"nom_legal\").valeur_accord.sum().sort_values(ascending=False) # TVA est en tête!"
   ]
  },
  {
   "cell_type": "markdown",
   "metadata": {},
   "source": [
    "### Cette dernière partie permet d'identifier les subventions reçues par chaque province en vertu du programme"
   ]
  },
  {
   "cell_type": "code",
   "execution_count": 284,
   "metadata": {},
   "outputs": [
    {
     "data": {
      "text/plain": [
       "province\n",
       "QC   29985446.00\n",
       "ON   29002751.00\n",
       "BC    4944905.00\n",
       "SK    2586016.00\n",
       "MB    2423890.00\n",
       "AB    2316796.00\n",
       "NS    1351815.00\n",
       "NL    1115736.00\n",
       "NB     503503.00\n",
       "NT     224759.00\n",
       "PE     143171.00\n",
       "YT       6583.00\n",
       "Name: valeur_accord, dtype: float64"
      ]
     },
     "execution_count": 284,
     "metadata": {},
     "output_type": "execute_result"
    }
   ],
   "source": [
    "subv[fped].groupby(\"province\").valeur_accord.sum().sort_values(ascending=False)"
   ]
  },
  {
   "cell_type": "code",
   "execution_count": 285,
   "metadata": {
    "scrolled": true
   },
   "outputs": [
    {
     "data": {
      "text/plain": [
       "ON   39.20\n",
       "QC   23.18\n",
       "BC    9.83\n",
       "AB    8.50\n",
       "SK    6.19\n",
       "MB    5.22\n",
       "NS    2.91\n",
       "NL    2.18\n",
       "NB    1.46\n",
       "NT    0.73\n",
       "PE    0.49\n",
       "YT    0.12\n",
       "Name: province, dtype: float64"
      ]
     },
     "execution_count": 285,
     "metadata": {},
     "output_type": "execute_result"
    }
   ],
   "source": [
    "subv[fped].province.value_counts() / len(subv[fped].valeur_accord)*100 # erreur dans mon code ici... "
   ]
  },
  {
   "cell_type": "markdown",
   "metadata": {},
   "source": [
    "#### * il y a une erreur dans mes pourcentages, je ne suis pas parvenu à trouver la bonne formule..."
   ]
  },
  {
   "cell_type": "markdown",
   "metadata": {},
   "source": [
    "<img src=\"https://media.giphy.com/media/5eFp76zhsq3uw/giphy.gif\" width=\"400\" height=\"400\" align='left'>\n"
   ]
  },
  {
   "cell_type": "code",
   "execution_count": null,
   "metadata": {},
   "outputs": [],
   "source": []
  }
 ],
 "metadata": {
  "kernelspec": {
   "display_name": "Python 3",
   "language": "python",
   "name": "python3"
  },
  "language_info": {
   "codemirror_mode": {
    "name": "ipython",
    "version": 3
   },
   "file_extension": ".py",
   "mimetype": "text/x-python",
   "name": "python",
   "nbconvert_exporter": "python",
   "pygments_lexer": "ipython3",
   "version": "3.7.1"
  }
 },
 "nbformat": 4,
 "nbformat_minor": 2
}
